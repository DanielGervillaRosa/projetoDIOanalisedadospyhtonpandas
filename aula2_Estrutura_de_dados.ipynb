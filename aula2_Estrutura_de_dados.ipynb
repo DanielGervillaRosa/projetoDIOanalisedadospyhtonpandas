{
  "nbformat": 4,
  "nbformat_minor": 0,
  "metadata": {
    "colab": {
      "provenance": []
    },
    "kernelspec": {
      "name": "python3",
      "display_name": "Python 3"
    }
  },
  "cells": [
    {
      "cell_type": "markdown",
      "metadata": {
        "id": "K-N4ha5EG6ky"
      },
      "source": [
        "# **Curso Python Para Análise de dados** - *Fernanda Santos*"
      ]
    },
    {
      "cell_type": "markdown",
      "metadata": {
        "id": "P5yjJd4Se7a8"
      },
      "source": [
        "# **Estrutura de dados**"
      ]
    },
    {
      "cell_type": "markdown",
      "metadata": {
        "id": "0VKL1NCNhUfG"
      },
      "source": [
        "## **Listas**"
      ]
    },
    {
      "cell_type": "code",
      "metadata": {
        "id": "XHAFPHWmfFoB",
        "colab": {
          "base_uri": "https://localhost:8080/"
        },
        "outputId": "20a9bb50-86ff-4c1e-a3f9-c8a2bf2ae747"
      },
      "source": [
        "#Criando uma lista chamada animais\n",
        "animais = [1,2,3]\n",
        "animais"
      ],
      "execution_count": 4,
      "outputs": [
        {
          "output_type": "execute_result",
          "data": {
            "text/plain": [
              "[1, 2, 3]"
            ]
          },
          "metadata": {},
          "execution_count": 4
        }
      ]
    },
    {
      "cell_type": "code",
      "metadata": {
        "id": "5v-w_ftdga0J",
        "colab": {
          "base_uri": "https://localhost:8080/"
        },
        "outputId": "9c586adc-562d-4836-b62b-d631bb9b81eb"
      },
      "source": [
        "animais = [\"cachorro\", \"gato\", 12345, 6.5]\n",
        "animais"
      ],
      "execution_count": 5,
      "outputs": [
        {
          "output_type": "execute_result",
          "data": {
            "text/plain": [
              "['cachorro', 'gato', 12345, 6.5]"
            ]
          },
          "metadata": {},
          "execution_count": 5
        }
      ]
    },
    {
      "cell_type": "code",
      "metadata": {
        "id": "bJkOFrGfgrKR",
        "colab": {
          "base_uri": "https://localhost:8080/",
          "height": 36
        },
        "outputId": "9e20b9de-4ad0-4acd-8658-61a705c59fd5"
      },
      "source": [
        "animais[0]"
      ],
      "execution_count": 6,
      "outputs": [
        {
          "output_type": "execute_result",
          "data": {
            "text/plain": [
              "'cachorro'"
            ],
            "application/vnd.google.colaboratory.intrinsic+json": {
              "type": "string"
            }
          },
          "metadata": {},
          "execution_count": 6
        }
      ]
    },
    {
      "cell_type": "code",
      "metadata": {
        "id": "M-2mXu3mgvuS",
        "colab": {
          "base_uri": "https://localhost:8080/"
        },
        "outputId": "f1e23e45-6cc2-436a-b969-645aee4b1aa7"
      },
      "source": [
        "animais[3]"
      ],
      "execution_count": 7,
      "outputs": [
        {
          "output_type": "execute_result",
          "data": {
            "text/plain": [
              "6.5"
            ]
          },
          "metadata": {},
          "execution_count": 7
        }
      ]
    },
    {
      "cell_type": "code",
      "metadata": {
        "id": "RDCW4hs_gxyT"
      },
      "source": [
        "animais[0] = \"papagaio\""
      ],
      "execution_count": 8,
      "outputs": []
    },
    {
      "cell_type": "code",
      "metadata": {
        "id": "QJrP-830gzvh",
        "colab": {
          "base_uri": "https://localhost:8080/"
        },
        "outputId": "0588ca6b-77f7-4a9e-e9fe-24d9c0fac3a1"
      },
      "source": [
        "animais"
      ],
      "execution_count": 9,
      "outputs": [
        {
          "output_type": "execute_result",
          "data": {
            "text/plain": [
              "['papagaio', 'gato', 12345, 6.5]"
            ]
          },
          "metadata": {},
          "execution_count": 9
        }
      ]
    },
    {
      "cell_type": "code",
      "metadata": {
        "id": "3QFbAI6Og0wP"
      },
      "source": [
        "animais.remove(\"gato\")"
      ],
      "execution_count": 10,
      "outputs": []
    },
    {
      "cell_type": "code",
      "metadata": {
        "id": "b8g1bs42g31p",
        "colab": {
          "base_uri": "https://localhost:8080/"
        },
        "outputId": "9c4f3718-646b-4746-f2ff-4cc104410e7f"
      },
      "source": [
        "animais"
      ],
      "execution_count": 11,
      "outputs": [
        {
          "output_type": "execute_result",
          "data": {
            "text/plain": [
              "['papagaio', 12345, 6.5]"
            ]
          },
          "metadata": {},
          "execution_count": 11
        }
      ]
    },
    {
      "cell_type": "code",
      "metadata": {
        "id": "xfu4p_g3g7OS",
        "colab": {
          "base_uri": "https://localhost:8080/"
        },
        "outputId": "ab943511-394e-4972-ff68-4b37576652a1"
      },
      "source": [
        "len(animais)"
      ],
      "execution_count": 12,
      "outputs": [
        {
          "output_type": "execute_result",
          "data": {
            "text/plain": [
              "3"
            ]
          },
          "metadata": {},
          "execution_count": 12
        }
      ]
    },
    {
      "cell_type": "code",
      "metadata": {
        "id": "0HedcjoFg-5m",
        "colab": {
          "base_uri": "https://localhost:8080/"
        },
        "outputId": "3a3e68f0-77f7-415b-ef69-351f3b5f6ec3"
      },
      "source": [
        "\"gato\" in animais"
      ],
      "execution_count": 13,
      "outputs": [
        {
          "output_type": "execute_result",
          "data": {
            "text/plain": [
              "False"
            ]
          },
          "metadata": {},
          "execution_count": 13
        }
      ]
    },
    {
      "cell_type": "code",
      "metadata": {
        "id": "VDZ6nZU2hDdf"
      },
      "source": [
        "lista = [500, 30, 300, 80, 10]"
      ],
      "execution_count": 14,
      "outputs": []
    },
    {
      "cell_type": "code",
      "metadata": {
        "id": "VjrYRfHJhGhL",
        "colab": {
          "base_uri": "https://localhost:8080/"
        },
        "outputId": "9c7ffeac-4563-48d2-ad9b-a196ba480b25"
      },
      "source": [
        "max(lista)"
      ],
      "execution_count": 15,
      "outputs": [
        {
          "output_type": "execute_result",
          "data": {
            "text/plain": [
              "500"
            ]
          },
          "metadata": {},
          "execution_count": 15
        }
      ]
    },
    {
      "cell_type": "code",
      "metadata": {
        "id": "jkeXKWQPhJRr",
        "colab": {
          "base_uri": "https://localhost:8080/"
        },
        "outputId": "c4ad50bf-065c-4a7f-cc8a-4cfdea1f8a11"
      },
      "source": [
        "min(lista)"
      ],
      "execution_count": 16,
      "outputs": [
        {
          "output_type": "execute_result",
          "data": {
            "text/plain": [
              "10"
            ]
          },
          "metadata": {},
          "execution_count": 16
        }
      ]
    },
    {
      "cell_type": "code",
      "metadata": {
        "id": "20T_hCwAhMsU"
      },
      "source": [
        "animais.append([\"leão\", \"Cachorro\"])"
      ],
      "execution_count": 17,
      "outputs": []
    },
    {
      "cell_type": "code",
      "metadata": {
        "id": "WgWWMNJXhQdB",
        "colab": {
          "base_uri": "https://localhost:8080/"
        },
        "outputId": "e5eebb1a-9085-4656-debc-438135454ceb"
      },
      "source": [
        "animais"
      ],
      "execution_count": 18,
      "outputs": [
        {
          "output_type": "execute_result",
          "data": {
            "text/plain": [
              "['papagaio', 12345, 6.5, ['leão', 'Cachorro']]"
            ]
          },
          "metadata": {},
          "execution_count": 18
        }
      ]
    },
    {
      "cell_type": "code",
      "metadata": {
        "id": "Cl-M69f5hSsD"
      },
      "source": [
        "animais.extend([\"cobra\", 6])"
      ],
      "execution_count": 19,
      "outputs": []
    },
    {
      "cell_type": "code",
      "metadata": {
        "id": "_scJEZbWMFBW",
        "colab": {
          "base_uri": "https://localhost:8080/"
        },
        "outputId": "dbb21699-ce55-4a89-f624-c4b00a8c07b7"
      },
      "source": [
        "animais"
      ],
      "execution_count": 20,
      "outputs": [
        {
          "output_type": "execute_result",
          "data": {
            "text/plain": [
              "['papagaio', 12345, 6.5, ['leão', 'Cachorro'], 'cobra', 6]"
            ]
          },
          "metadata": {},
          "execution_count": 20
        }
      ]
    },
    {
      "cell_type": "code",
      "metadata": {
        "id": "kNn0DiyxheHC",
        "colab": {
          "base_uri": "https://localhost:8080/"
        },
        "outputId": "1d739632-327d-4f48-a888-5507e8abc7f0"
      },
      "source": [
        "animais.count(\"leão\")"
      ],
      "execution_count": 21,
      "outputs": [
        {
          "output_type": "execute_result",
          "data": {
            "text/plain": [
              "0"
            ]
          },
          "metadata": {},
          "execution_count": 21
        }
      ]
    },
    {
      "cell_type": "code",
      "metadata": {
        "id": "VgoLBevzhinC"
      },
      "source": [
        "lista.sort()"
      ],
      "execution_count": 22,
      "outputs": []
    },
    {
      "cell_type": "code",
      "metadata": {
        "id": "mPJTKqXMhrDB",
        "colab": {
          "base_uri": "https://localhost:8080/"
        },
        "outputId": "5bafc24b-6001-46d4-89c3-620ba29a4f83"
      },
      "source": [
        "lista"
      ],
      "execution_count": 23,
      "outputs": [
        {
          "output_type": "execute_result",
          "data": {
            "text/plain": [
              "[10, 30, 80, 300, 500]"
            ]
          },
          "metadata": {},
          "execution_count": 23
        }
      ]
    },
    {
      "cell_type": "markdown",
      "metadata": {
        "id": "VHmSI4EcoX-h"
      },
      "source": [
        "# **Tuplas**"
      ]
    },
    {
      "cell_type": "code",
      "metadata": {
        "id": "Qrv07mzWocDT"
      },
      "source": [
        "#As tuplas usam parênteses como sintaxe\n",
        "tp = (\"Banana\", \"Maçã\", 10, 50)"
      ],
      "execution_count": 24,
      "outputs": []
    },
    {
      "cell_type": "code",
      "metadata": {
        "id": "r7ZMMLn8pt7R",
        "colab": {
          "base_uri": "https://localhost:8080/",
          "height": 36
        },
        "outputId": "729017c4-fd6d-43de-e03e-308f4ac6d4c2"
      },
      "source": [
        "tp[0]"
      ],
      "execution_count": 25,
      "outputs": [
        {
          "output_type": "execute_result",
          "data": {
            "text/plain": [
              "'Banana'"
            ],
            "application/vnd.google.colaboratory.intrinsic+json": {
              "type": "string"
            }
          },
          "metadata": {},
          "execution_count": 25
        }
      ]
    },
    {
      "cell_type": "code",
      "metadata": {
        "id": "jKRnh-DbpzBj",
        "colab": {
          "base_uri": "https://localhost:8080/",
          "height": 165
        },
        "outputId": "5d63e48f-f8d0-4c0a-add5-71ed7ea6354e"
      },
      "source": [
        "tp[0] = \"Laranja\""
      ],
      "execution_count": 26,
      "outputs": [
        {
          "output_type": "error",
          "ename": "TypeError",
          "evalue": "ignored",
          "traceback": [
            "\u001b[0;31m---------------------------------------------------------------------------\u001b[0m",
            "\u001b[0;31mTypeError\u001b[0m                                 Traceback (most recent call last)",
            "\u001b[0;32m<ipython-input-26-37f4fcd7b828>\u001b[0m in \u001b[0;36m<module>\u001b[0;34m\u001b[0m\n\u001b[0;32m----> 1\u001b[0;31m \u001b[0mtp\u001b[0m\u001b[0;34m[\u001b[0m\u001b[0;36m0\u001b[0m\u001b[0;34m]\u001b[0m \u001b[0;34m=\u001b[0m \u001b[0;34m\"Laranja\"\u001b[0m\u001b[0;34m\u001b[0m\u001b[0;34m\u001b[0m\u001b[0m\n\u001b[0m",
            "\u001b[0;31mTypeError\u001b[0m: 'tuple' object does not support item assignment"
          ]
        }
      ]
    },
    {
      "cell_type": "code",
      "metadata": {
        "id": "a-KaNhePE0nb",
        "colab": {
          "base_uri": "https://localhost:8080/"
        },
        "outputId": "66b3cba1-8f38-496e-e4e1-fa5ce1d0273a"
      },
      "source": [
        "tp.count(\"Maçã\")"
      ],
      "execution_count": 30,
      "outputs": [
        {
          "output_type": "execute_result",
          "data": {
            "text/plain": [
              "1"
            ]
          },
          "metadata": {},
          "execution_count": 30
        }
      ]
    },
    {
      "cell_type": "code",
      "metadata": {
        "id": "ntXTi7MaFAX7",
        "colab": {
          "base_uri": "https://localhost:8080/"
        },
        "outputId": "9a8abac4-5728-468c-f0cc-0bac52257408"
      },
      "source": [
        "tp[0:2]"
      ],
      "execution_count": 29,
      "outputs": [
        {
          "output_type": "execute_result",
          "data": {
            "text/plain": [
              "('Banana', 'Maçã')"
            ]
          },
          "metadata": {},
          "execution_count": 29
        }
      ]
    },
    {
      "cell_type": "markdown",
      "metadata": {
        "id": "Q0Ltz4kcFQps"
      },
      "source": [
        "# **Dicionários**"
      ]
    },
    {
      "cell_type": "code",
      "metadata": {
        "id": "43OFknPUFO68"
      },
      "source": [
        "#Para criar um dicionário utilizamos as {}\n",
        "dc = {\"Maçã\":20, \"Banana\":10, \"Laranja\":15, \"Uva\":5} #Dicionários trabalham com o condeito chave e valor"
      ],
      "execution_count": 27,
      "outputs": []
    },
    {
      "cell_type": "code",
      "metadata": {
        "id": "dCH9PefxGBdZ",
        "colab": {
          "base_uri": "https://localhost:8080/"
        },
        "outputId": "97707325-7517-453a-a63a-cb5a43ff9a46"
      },
      "source": [
        "dc"
      ],
      "execution_count": 28,
      "outputs": [
        {
          "output_type": "execute_result",
          "data": {
            "text/plain": [
              "{'Maçã': 20, 'Banana': 10, 'Laranja': 15, 'Uva': 5}"
            ]
          },
          "metadata": {},
          "execution_count": 28
        }
      ]
    },
    {
      "cell_type": "code",
      "metadata": {
        "id": "iyGxfz72FxNa",
        "colab": {
          "base_uri": "https://localhost:8080/"
        },
        "outputId": "43bfac2e-8653-4a07-fe8a-a3065afd912a"
      },
      "source": [
        "dc[\"Maçã\"]"
      ],
      "execution_count": 31,
      "outputs": [
        {
          "output_type": "execute_result",
          "data": {
            "text/plain": [
              "20"
            ]
          },
          "metadata": {},
          "execution_count": 31
        }
      ]
    },
    {
      "cell_type": "code",
      "metadata": {
        "id": "6WwkohdpF5Cq",
        "colab": {
          "base_uri": "https://localhost:8080/"
        },
        "outputId": "fd88509e-d75b-4c13-d166-2ba7773913ac"
      },
      "source": [
        "dc[\"Maçã\"] = 30\n",
        "dc"
      ],
      "execution_count": 32,
      "outputs": [
        {
          "output_type": "execute_result",
          "data": {
            "text/plain": [
              "{'Maçã': 30, 'Banana': 10, 'Laranja': 15, 'Uva': 5}"
            ]
          },
          "metadata": {},
          "execution_count": 32
        }
      ]
    },
    {
      "cell_type": "code",
      "metadata": {
        "id": "_50MV-XaGFae",
        "colab": {
          "base_uri": "https://localhost:8080/"
        },
        "outputId": "c643274c-a541-4967-e884-c120a3b93b29"
      },
      "source": [
        "dc.keys()"
      ],
      "execution_count": 33,
      "outputs": [
        {
          "output_type": "execute_result",
          "data": {
            "text/plain": [
              "dict_keys(['Maçã', 'Banana', 'Laranja', 'Uva'])"
            ]
          },
          "metadata": {},
          "execution_count": 33
        }
      ]
    },
    {
      "cell_type": "code",
      "metadata": {
        "id": "AHLXfikMGRS4",
        "colab": {
          "base_uri": "https://localhost:8080/"
        },
        "outputId": "06444e5a-7b47-48bf-ba9c-aa0f19bb0b8d"
      },
      "source": [
        "dc.values()"
      ],
      "execution_count": 34,
      "outputs": [
        {
          "output_type": "execute_result",
          "data": {
            "text/plain": [
              "dict_values([30, 10, 15, 5])"
            ]
          },
          "metadata": {},
          "execution_count": 34
        }
      ]
    },
    {
      "cell_type": "code",
      "metadata": {
        "id": "co2yQ4IrGX8n",
        "colab": {
          "base_uri": "https://localhost:8080/"
        },
        "outputId": "f0dc3d35-7dad-4a18-a748-50796fa755fc"
      },
      "source": [
        "dc.setdefault(\"Limão\", 22)"
      ],
      "execution_count": 35,
      "outputs": [
        {
          "output_type": "execute_result",
          "data": {
            "text/plain": [
              "22"
            ]
          },
          "metadata": {},
          "execution_count": 35
        }
      ]
    },
    {
      "cell_type": "code",
      "metadata": {
        "id": "M9_v4jAZGyz6",
        "colab": {
          "base_uri": "https://localhost:8080/"
        },
        "outputId": "2b5d873c-095d-41e0-8a1f-bafd5058281c"
      },
      "source": [
        "dc"
      ],
      "execution_count": 36,
      "outputs": [
        {
          "output_type": "execute_result",
          "data": {
            "text/plain": [
              "{'Maçã': 30, 'Banana': 10, 'Laranja': 15, 'Uva': 5, 'Limão': 22}"
            ]
          },
          "metadata": {},
          "execution_count": 36
        }
      ]
    },
    {
      "cell_type": "code",
      "metadata": {
        "id": "l2-4mE1LG0CC"
      },
      "source": [],
      "execution_count": 36,
      "outputs": []
    }
  ]
}